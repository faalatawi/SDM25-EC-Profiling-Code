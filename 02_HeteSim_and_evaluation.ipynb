{
 "cells": [
  {
   "cell_type": "code",
   "execution_count": 2,
   "metadata": {},
   "outputs": [],
   "source": [
    "import numpy as np\n",
    "import pandas as pd\n",
    "import scipy.sparse as sp\n",
    "from sklearn.metrics.pairwise import cosine_similarity\n",
    "from sklearn.preprocessing import normalize\n",
    "from scipy.stats import kendalltau\n",
    "import matplotlib.pyplot as plt\n",
    "import random"
   ]
  },
  {
   "cell_type": "code",
   "execution_count": 3,
   "metadata": {},
   "outputs": [],
   "source": [
    "def U_normalize(Adj):\n",
    "    return normalize(Adj, norm='l1', axis=1)\n",
    "\n",
    "def V_normalize(Adj):\n",
    "    return normalize(Adj, norm='l1', axis=0)"
   ]
  },
  {
   "cell_type": "code",
   "execution_count": 61,
   "metadata": {},
   "outputs": [
    {
     "name": "stdout",
     "output_type": "stream",
     "text": [
      "The dataset is abortion\n"
     ]
    }
   ],
   "source": [
    "dataset = ['abortion','gun'][0]\n",
    "\n",
    "print(f\"The dataset is {dataset}\")\n",
    "\n",
    "df_words_list = pd.read_parquet(f'output/{dataset}/list_of_words.parquet')\n",
    "df_topics = pd.read_parquet(f'output/{dataset}/topics.parquet')\n",
    "df_tweets = pd.read_parquet(f'output/{dataset}/tweets.parquet')\n",
    "df_users = pd.read_parquet(f'output/{dataset}/uid_to_index.parquet')\n",
    "df_label = pd.read_feather(f'data/{dataset}/allsides.feather')"
   ]
  },
  {
   "cell_type": "code",
   "execution_count": 62,
   "metadata": {},
   "outputs": [
    {
     "data": {
      "text/plain": [
       "((68810, 2041), (68810, 5890), (68810, 35))"
      ]
     },
     "execution_count": 62,
     "metadata": {},
     "output_type": "execute_result"
    }
   ],
   "source": [
    "TW2U = sp.load_npz(f'output/{dataset}/Tweets2Users_sparse.npz')\n",
    "TW2W = sp.load_npz(f'output/{dataset}/X_Tweets_sparse.npz')\n",
    "TW2T = sp.load_npz(f'output/{dataset}/Tweets2Topics_sparse.npz')\n",
    "\n",
    "TW2U.shape, TW2W.shape, TW2T.shape"
   ]
  },
  {
   "cell_type": "code",
   "execution_count": 63,
   "metadata": {},
   "outputs": [],
   "source": [
    "words_list = df_words_list['word'].values"
   ]
  },
  {
   "cell_type": "code",
   "execution_count": 64,
   "metadata": {},
   "outputs": [
    {
     "data": {
      "text/plain": [
       "(2041,)"
      ]
     },
     "execution_count": 64,
     "metadata": {},
     "output_type": "execute_result"
    }
   ],
   "source": [
    "Users_Labels = np.load(f'output/{dataset}/users_labels_(Same_word_as_Tweets2Users).npy')\n",
    "Users_Labels.shape"
   ]
  },
  {
   "cell_type": "code",
   "execution_count": 65,
   "metadata": {},
   "outputs": [
    {
     "data": {
      "text/plain": [
       "2041"
      ]
     },
     "execution_count": 65,
     "metadata": {},
     "output_type": "execute_result"
    }
   ],
   "source": [
    "Users_Labels\n",
    "user_ids = df_users['user_id'].values\n",
    "\n",
    "uid2label = dict(zip(user_ids, Users_Labels))\n",
    "len(uid2label)"
   ]
  },
  {
   "cell_type": "code",
   "execution_count": 66,
   "metadata": {},
   "outputs": [
    {
     "name": "stdout",
     "output_type": "stream",
     "text": [
      "label\n",
      "0    34652\n",
      "1    34158\n",
      "Name: count, dtype: int64\n"
     ]
    },
    {
     "data": {
      "text/plain": [
       "(68810,)"
      ]
     },
     "execution_count": 66,
     "metadata": {},
     "output_type": "execute_result"
    }
   ],
   "source": [
    "df_tweets['label'] = df_tweets['user_id'].map(uid2label)\n",
    "\n",
    "x = df_tweets['label'].value_counts()\n",
    "print(x)\n",
    "\n",
    "\n",
    "tweet_label = df_tweets['label'].values\n",
    "tweet_label.shape"
   ]
  },
  {
   "cell_type": "markdown",
   "metadata": {},
   "source": [
    "# Keywords of Community:"
   ]
  },
  {
   "cell_type": "code",
   "execution_count": 67,
   "metadata": {},
   "outputs": [],
   "source": [
    "T2TW = TW2T.T\n",
    "\n",
    "\n",
    "# T -> TW -> W\n",
    "T2TW_0 = T2TW[:, tweet_label == 0]\n",
    "TW2W_0 = TW2W[tweet_label == 0, :]\n",
    "T2TW_0.shape, TW2W_0.shape\n",
    "PM_L = U_normalize(T2TW_0)\n",
    "PM_R = V_normalize(TW2W_0)\n",
    "\n",
    "HS_T2W_C0 = cosine_similarity(PM_L, PM_R.T)"
   ]
  },
  {
   "cell_type": "code",
   "execution_count": 68,
   "metadata": {},
   "outputs": [],
   "source": [
    "T2TW_1 = T2TW[:, tweet_label == 1]\n",
    "TW2W_1 = TW2W[tweet_label == 1, :]\n",
    "PM_L = U_normalize(T2TW_1)\n",
    "PM_R = V_normalize(TW2W_1)\n",
    "\n",
    "HS_T2W_C1 = cosine_similarity(PM_L, PM_R.T)"
   ]
  },
  {
   "cell_type": "code",
   "execution_count": 69,
   "metadata": {},
   "outputs": [
    {
     "data": {
      "text/plain": [
       "array(['feel', 'kidding', 'life', 'cking', 'thoughts', 'feeling', 'felt',\n",
       "       'everytime', 'despair', 've'], dtype=object)"
      ]
     },
     "execution_count": 69,
     "metadata": {},
     "output_type": "execute_result"
    }
   ],
   "source": [
    "topic_id = 3 ##!!!!!! Impotent\n",
    "score_c0_topic = HS_T2W_C0[topic_id] - HS_T2W_C1[topic_id]\n",
    "words_list[np.argsort(score_c0_topic)[::-1][:10]]"
   ]
  },
  {
   "cell_type": "code",
   "execution_count": 70,
   "metadata": {},
   "outputs": [
    {
     "data": {
      "text/plain": [
       "array(['ignorant', 'lmfao', 'wth', 'crap', 'idiots', 'stupid', 'anytime',\n",
       "       'smug', 'jerk', 'outright'], dtype=object)"
      ]
     },
     "execution_count": 70,
     "metadata": {},
     "output_type": "execute_result"
    }
   ],
   "source": [
    "score_c1_topic = HS_T2W_C1[topic_id] - HS_T2W_C0[topic_id] ##!!!!!! Impotent\n",
    "words_list[np.argsort(score_c1_topic)[::-1][:10]]"
   ]
  },
  {
   "cell_type": "code",
   "execution_count": 71,
   "metadata": {},
   "outputs": [
    {
     "data": {
      "text/plain": [
       "(2041, 68810)"
      ]
     },
     "execution_count": 71,
     "metadata": {},
     "output_type": "execute_result"
    }
   ],
   "source": [
    "U2TW = TW2U.T\n",
    "U2TW.shape"
   ]
  },
  {
   "cell_type": "code",
   "execution_count": 72,
   "metadata": {},
   "outputs": [
    {
     "data": {
      "text/plain": [
       "(68810, 5890)"
      ]
     },
     "execution_count": 72,
     "metadata": {},
     "output_type": "execute_result"
    }
   ],
   "source": [
    "TW2W.shape"
   ]
  },
  {
   "cell_type": "code",
   "execution_count": 73,
   "metadata": {},
   "outputs": [
    {
     "data": {
      "text/plain": [
       "(2041, 5890)"
      ]
     },
     "execution_count": 73,
     "metadata": {},
     "output_type": "execute_result"
    }
   ],
   "source": [
    "U2W = U2TW @ TW2W # User to Word matrix\n",
    "U2W.shape"
   ]
  },
  {
   "cell_type": "markdown",
   "metadata": {},
   "source": [
    "# Another Way to compute the ideology:"
   ]
  },
  {
   "cell_type": "code",
   "execution_count": 74,
   "metadata": {},
   "outputs": [],
   "source": [
    "top_50_words_c0 = np.argsort(score_c0_topic)[::-1][:30]\n",
    "top_50_words_c1 = np.argsort(score_c1_topic)[::-1][:30]"
   ]
  },
  {
   "cell_type": "code",
   "execution_count": 75,
   "metadata": {},
   "outputs": [
    {
     "data": {
      "text/plain": [
       "array([1973, 2879, 3043,  891, 5304, 1974, 1981, 1801, 1404, 5593, 2258,\n",
       "       1846, 1867, 4804, 3052, 2500,  603, 5258, 2573, 1219, 3696, 4904,\n",
       "       2483, 4851, 5825, 4178, 2887, 2160, 5461, 3380])"
      ]
     },
     "execution_count": 75,
     "metadata": {},
     "output_type": "execute_result"
    }
   ],
   "source": [
    "top_50_words_c0"
   ]
  },
  {
   "cell_type": "code",
   "execution_count": 76,
   "metadata": {},
   "outputs": [
    {
     "data": {
      "text/plain": [
       "array(['feel', 'kidding', 'life', 'cking', 'thoughts', 'feeling', 'felt',\n",
       "       'everytime', 'despair', 've', 'gotta', 'experiences', 'express',\n",
       "       'silence', 'like', 'horrifying', 'boundaries', 'tend', 'idiot',\n",
       "       'crying', 'pain', 'sorry', 'honestly', 'slow', 'worry', 'rage',\n",
       "       'kind', 'fun', 'try', 'moment'], dtype=object)"
      ]
     },
     "execution_count": 76,
     "metadata": {},
     "output_type": "execute_result"
    }
   ],
   "source": [
    "words_list[top_50_words_c0]"
   ]
  },
  {
   "cell_type": "code",
   "execution_count": 77,
   "metadata": {},
   "outputs": [
    {
     "data": {
      "text/plain": [
       "array([2580, 3088, 5852, 1171, 2575, 5092,  232, 4868, 2800, 3664, 3853,\n",
       "       5524, 2077, 2714, 4791, 3930, 5005, 2196, 3040,  477, 1031, 2277,\n",
       "       3968, 4817, 5458, 4120, 3149, 1190, 3185, 3523])"
      ]
     },
     "execution_count": 77,
     "metadata": {},
     "output_type": "execute_result"
    }
   ],
   "source": [
    "top_50_words_c1"
   ]
  },
  {
   "cell_type": "code",
   "execution_count": 78,
   "metadata": {},
   "outputs": [
    {
     "data": {
      "text/plain": [
       "array(['ignorant', 'lmfao', 'wth', 'crap', 'idiots', 'stupid', 'anytime',\n",
       "       'smug', 'jerk', 'outright', 'plain', 'unfortunately', 'fool',\n",
       "       'intelligent', 'sickening', 'possibly', 'statement', 'gee', 'lie',\n",
       "       'believe', 'conditioned', 'grandparents', 'premise', 'sir',\n",
       "       'truth', 'pure', 'lunatic', 'cried', 'mama', 'nonsensical'],\n",
       "      dtype=object)"
      ]
     },
     "execution_count": 78,
     "metadata": {},
     "output_type": "execute_result"
    }
   ],
   "source": [
    "words_list[top_50_words_c1]"
   ]
  },
  {
   "cell_type": "code",
   "execution_count": 79,
   "metadata": {},
   "outputs": [
    {
     "data": {
      "text/plain": [
       "(2041,)"
      ]
     },
     "execution_count": 79,
     "metadata": {},
     "output_type": "execute_result"
    }
   ],
   "source": [
    "Users_Labels.shape"
   ]
  },
  {
   "cell_type": "code",
   "execution_count": 80,
   "metadata": {},
   "outputs": [],
   "source": [
    "c0_top50_words_names = words_list[top_50_words_c0]\n",
    "c1_top50_words_names = words_list[top_50_words_c1]"
   ]
  },
  {
   "cell_type": "code",
   "execution_count": 81,
   "metadata": {},
   "outputs": [
    {
     "data": {
      "text/html": [
       "<div>\n",
       "<style scoped>\n",
       "    .dataframe tbody tr th:only-of-type {\n",
       "        vertical-align: middle;\n",
       "    }\n",
       "\n",
       "    .dataframe tbody tr th {\n",
       "        vertical-align: top;\n",
       "    }\n",
       "\n",
       "    .dataframe thead th {\n",
       "        text-align: right;\n",
       "    }\n",
       "</style>\n",
       "<table border=\"1\" class=\"dataframe\">\n",
       "  <thead>\n",
       "    <tr style=\"text-align: right;\">\n",
       "      <th></th>\n",
       "      <th>user_id</th>\n",
       "      <th>tweet</th>\n",
       "      <th>topic</th>\n",
       "      <th>label</th>\n",
       "    </tr>\n",
       "  </thead>\n",
       "  <tbody>\n",
       "    <tr>\n",
       "      <th>0</th>\n",
       "      <td>1511561411696148480</td>\n",
       "      <td>Ok try not to Shit on yourself we forget your ...</td>\n",
       "      <td>3</td>\n",
       "      <td>1</td>\n",
       "    </tr>\n",
       "    <tr>\n",
       "      <th>1</th>\n",
       "      <td>1511561411696148480</td>\n",
       "      <td>Possibly using sperm and the egg from unvaccin...</td>\n",
       "      <td>6</td>\n",
       "      <td>1</td>\n",
       "    </tr>\n",
       "    <tr>\n",
       "      <th>2</th>\n",
       "      <td>1511561411696148480</td>\n",
       "      <td>Hear me out first. Movies always ahead of time...</td>\n",
       "      <td>6</td>\n",
       "      <td>1</td>\n",
       "    </tr>\n",
       "    <tr>\n",
       "      <th>3</th>\n",
       "      <td>1511561411696148480</td>\n",
       "      <td>I don t care if they get Brittany griner out o...</td>\n",
       "      <td>10</td>\n",
       "      <td>1</td>\n",
       "    </tr>\n",
       "    <tr>\n",
       "      <th>4</th>\n",
       "      <td>1511561411696148480</td>\n",
       "      <td>They would love to bankrupt our economy so the...</td>\n",
       "      <td>1</td>\n",
       "      <td>1</td>\n",
       "    </tr>\n",
       "    <tr>\n",
       "      <th>...</th>\n",
       "      <td>...</td>\n",
       "      <td>...</td>\n",
       "      <td>...</td>\n",
       "      <td>...</td>\n",
       "    </tr>\n",
       "    <tr>\n",
       "      <th>68805</th>\n",
       "      <td>987419369599676416</td>\n",
       "      <td>If you read one thing today, this is it. What ...</td>\n",
       "      <td>3</td>\n",
       "      <td>1</td>\n",
       "    </tr>\n",
       "    <tr>\n",
       "      <th>68806</th>\n",
       "      <td>987419369599676416</td>\n",
       "      <td>Dis guy right here has the receipts.</td>\n",
       "      <td>0</td>\n",
       "      <td>1</td>\n",
       "    </tr>\n",
       "    <tr>\n",
       "      <th>68807</th>\n",
       "      <td>987419369599676416</td>\n",
       "      <td>So basically the three letter agencies were / ...</td>\n",
       "      <td>8</td>\n",
       "      <td>1</td>\n",
       "    </tr>\n",
       "    <tr>\n",
       "      <th>68808</th>\n",
       "      <td>987419369599676416</td>\n",
       "      <td>Right up until that LAST DEM BALLOTT DUMP.</td>\n",
       "      <td>2</td>\n",
       "      <td>1</td>\n",
       "    </tr>\n",
       "    <tr>\n",
       "      <th>68809</th>\n",
       "      <td>987419369599676416</td>\n",
       "      <td>Are People Like Katie Hobbs Forcing Us to Deal...</td>\n",
       "      <td>24</td>\n",
       "      <td>1</td>\n",
       "    </tr>\n",
       "  </tbody>\n",
       "</table>\n",
       "<p>68810 rows × 4 columns</p>\n",
       "</div>"
      ],
      "text/plain": [
       "                   user_id                                              tweet  \\\n",
       "0      1511561411696148480  Ok try not to Shit on yourself we forget your ...   \n",
       "1      1511561411696148480  Possibly using sperm and the egg from unvaccin...   \n",
       "2      1511561411696148480  Hear me out first. Movies always ahead of time...   \n",
       "3      1511561411696148480  I don t care if they get Brittany griner out o...   \n",
       "4      1511561411696148480  They would love to bankrupt our economy so the...   \n",
       "...                    ...                                                ...   \n",
       "68805   987419369599676416  If you read one thing today, this is it. What ...   \n",
       "68806   987419369599676416               Dis guy right here has the receipts.   \n",
       "68807   987419369599676416  So basically the three letter agencies were / ...   \n",
       "68808   987419369599676416         Right up until that LAST DEM BALLOTT DUMP.   \n",
       "68809   987419369599676416  Are People Like Katie Hobbs Forcing Us to Deal...   \n",
       "\n",
       "       topic  label  \n",
       "0          3      1  \n",
       "1          6      1  \n",
       "2          6      1  \n",
       "3         10      1  \n",
       "4          1      1  \n",
       "...      ...    ...  \n",
       "68805      3      1  \n",
       "68806      0      1  \n",
       "68807      8      1  \n",
       "68808      2      1  \n",
       "68809     24      1  \n",
       "\n",
       "[68810 rows x 4 columns]"
      ]
     },
     "execution_count": 81,
     "metadata": {},
     "output_type": "execute_result"
    }
   ],
   "source": [
    "df_tweets"
   ]
  },
  {
   "cell_type": "code",
   "execution_count": 82,
   "metadata": {},
   "outputs": [
    {
     "data": {
      "text/plain": [
       "array([ True, False, False, ..., False, False, False])"
      ]
     },
     "execution_count": 82,
     "metadata": {},
     "output_type": "execute_result"
    }
   ],
   "source": [
    "tweets_topic_mask = (df_tweets.topic == topic_id).to_numpy()\n",
    "tweets_topic_mask"
   ]
  },
  {
   "cell_type": "code",
   "execution_count": 83,
   "metadata": {},
   "outputs": [
    {
     "data": {
      "text/plain": [
       "(2041, 4409)"
      ]
     },
     "execution_count": 83,
     "metadata": {},
     "output_type": "execute_result"
    }
   ],
   "source": [
    "U2TW_topic = U2TW[:, tweets_topic_mask]\n",
    "U2TW_topic.shape"
   ]
  },
  {
   "cell_type": "code",
   "execution_count": 84,
   "metadata": {},
   "outputs": [
    {
     "data": {
      "text/plain": [
       "(4409, 5890)"
      ]
     },
     "execution_count": 84,
     "metadata": {},
     "output_type": "execute_result"
    }
   ],
   "source": [
    "TW2W_topic = TW2W[tweets_topic_mask, :]\n",
    "TW2W_topic.shape"
   ]
  },
  {
   "cell_type": "code",
   "execution_count": 85,
   "metadata": {},
   "outputs": [
    {
     "data": {
      "text/plain": [
       "(2041, 5890)"
      ]
     },
     "execution_count": 85,
     "metadata": {},
     "output_type": "execute_result"
    }
   ],
   "source": [
    "# U2W = U2TW @ TW2W # User to Word matrix\n",
    "U2W_topic = U2TW_topic @ TW2W_topic\n",
    "U2W_topic.shape"
   ]
  },
  {
   "cell_type": "markdown",
   "metadata": {},
   "source": [
    "# Ideology:"
   ]
  },
  {
   "cell_type": "code",
   "execution_count": 86,
   "metadata": {},
   "outputs": [
    {
     "data": {
      "text/html": [
       "<div>\n",
       "<style scoped>\n",
       "    .dataframe tbody tr th:only-of-type {\n",
       "        vertical-align: middle;\n",
       "    }\n",
       "\n",
       "    .dataframe tbody tr th {\n",
       "        vertical-align: top;\n",
       "    }\n",
       "\n",
       "    .dataframe thead th {\n",
       "        text-align: right;\n",
       "    }\n",
       "</style>\n",
       "<table border=\"1\" class=\"dataframe\">\n",
       "  <thead>\n",
       "    <tr style=\"text-align: right;\">\n",
       "      <th></th>\n",
       "      <th>user_id</th>\n",
       "      <th>allsides_score</th>\n",
       "    </tr>\n",
       "  </thead>\n",
       "  <tbody>\n",
       "    <tr>\n",
       "      <th>0</th>\n",
       "      <td>24908953</td>\n",
       "      <td>-0.125000</td>\n",
       "    </tr>\n",
       "    <tr>\n",
       "      <th>1</th>\n",
       "      <td>1340694200770154496</td>\n",
       "      <td>-0.500000</td>\n",
       "    </tr>\n",
       "    <tr>\n",
       "      <th>2</th>\n",
       "      <td>576828226</td>\n",
       "      <td>0.000000</td>\n",
       "    </tr>\n",
       "    <tr>\n",
       "      <th>3</th>\n",
       "      <td>1424482039974203399</td>\n",
       "      <td>-0.187500</td>\n",
       "    </tr>\n",
       "    <tr>\n",
       "      <th>4</th>\n",
       "      <td>165793361</td>\n",
       "      <td>-0.464286</td>\n",
       "    </tr>\n",
       "    <tr>\n",
       "      <th>...</th>\n",
       "      <td>...</td>\n",
       "      <td>...</td>\n",
       "    </tr>\n",
       "    <tr>\n",
       "      <th>1994</th>\n",
       "      <td>341190477</td>\n",
       "      <td>-0.500000</td>\n",
       "    </tr>\n",
       "    <tr>\n",
       "      <th>1995</th>\n",
       "      <td>197535254</td>\n",
       "      <td>-0.473684</td>\n",
       "    </tr>\n",
       "    <tr>\n",
       "      <th>1996</th>\n",
       "      <td>2856205943</td>\n",
       "      <td>-0.600000</td>\n",
       "    </tr>\n",
       "    <tr>\n",
       "      <th>1997</th>\n",
       "      <td>971009759125131264</td>\n",
       "      <td>-0.500000</td>\n",
       "    </tr>\n",
       "    <tr>\n",
       "      <th>1998</th>\n",
       "      <td>17878433</td>\n",
       "      <td>-0.640000</td>\n",
       "    </tr>\n",
       "  </tbody>\n",
       "</table>\n",
       "<p>1999 rows × 2 columns</p>\n",
       "</div>"
      ],
      "text/plain": [
       "                  user_id  allsides_score\n",
       "0                24908953       -0.125000\n",
       "1     1340694200770154496       -0.500000\n",
       "2               576828226        0.000000\n",
       "3     1424482039974203399       -0.187500\n",
       "4               165793361       -0.464286\n",
       "...                   ...             ...\n",
       "1994            341190477       -0.500000\n",
       "1995            197535254       -0.473684\n",
       "1996           2856205943       -0.600000\n",
       "1997   971009759125131264       -0.500000\n",
       "1998             17878433       -0.640000\n",
       "\n",
       "[1999 rows x 2 columns]"
      ]
     },
     "execution_count": 86,
     "metadata": {},
     "output_type": "execute_result"
    }
   ],
   "source": [
    "df_label"
   ]
  },
  {
   "cell_type": "code",
   "execution_count": 87,
   "metadata": {},
   "outputs": [
    {
     "data": {
      "text/html": [
       "<div>\n",
       "<style scoped>\n",
       "    .dataframe tbody tr th:only-of-type {\n",
       "        vertical-align: middle;\n",
       "    }\n",
       "\n",
       "    .dataframe tbody tr th {\n",
       "        vertical-align: top;\n",
       "    }\n",
       "\n",
       "    .dataframe thead th {\n",
       "        text-align: right;\n",
       "    }\n",
       "</style>\n",
       "<table border=\"1\" class=\"dataframe\">\n",
       "  <thead>\n",
       "    <tr style=\"text-align: right;\">\n",
       "      <th></th>\n",
       "      <th>user_id</th>\n",
       "      <th>user_index</th>\n",
       "    </tr>\n",
       "  </thead>\n",
       "  <tbody>\n",
       "    <tr>\n",
       "      <th>0</th>\n",
       "      <td>1511561411696148480</td>\n",
       "      <td>0</td>\n",
       "    </tr>\n",
       "    <tr>\n",
       "      <th>1</th>\n",
       "      <td>1519024813561368576</td>\n",
       "      <td>1</td>\n",
       "    </tr>\n",
       "    <tr>\n",
       "      <th>2</th>\n",
       "      <td>1537105274757976065</td>\n",
       "      <td>2</td>\n",
       "    </tr>\n",
       "    <tr>\n",
       "      <th>3</th>\n",
       "      <td>438897163</td>\n",
       "      <td>3</td>\n",
       "    </tr>\n",
       "    <tr>\n",
       "      <th>4</th>\n",
       "      <td>55712928</td>\n",
       "      <td>4</td>\n",
       "    </tr>\n",
       "    <tr>\n",
       "      <th>...</th>\n",
       "      <td>...</td>\n",
       "      <td>...</td>\n",
       "    </tr>\n",
       "    <tr>\n",
       "      <th>2036</th>\n",
       "      <td>1489362675889065985</td>\n",
       "      <td>2036</td>\n",
       "    </tr>\n",
       "    <tr>\n",
       "      <th>2037</th>\n",
       "      <td>1424448523244871688</td>\n",
       "      <td>2037</td>\n",
       "    </tr>\n",
       "    <tr>\n",
       "      <th>2038</th>\n",
       "      <td>438584384</td>\n",
       "      <td>2038</td>\n",
       "    </tr>\n",
       "    <tr>\n",
       "      <th>2039</th>\n",
       "      <td>999149146429906944</td>\n",
       "      <td>2039</td>\n",
       "    </tr>\n",
       "    <tr>\n",
       "      <th>2040</th>\n",
       "      <td>987419369599676416</td>\n",
       "      <td>2040</td>\n",
       "    </tr>\n",
       "  </tbody>\n",
       "</table>\n",
       "<p>2041 rows × 2 columns</p>\n",
       "</div>"
      ],
      "text/plain": [
       "                  user_id  user_index\n",
       "0     1511561411696148480           0\n",
       "1     1519024813561368576           1\n",
       "2     1537105274757976065           2\n",
       "3               438897163           3\n",
       "4                55712928           4\n",
       "...                   ...         ...\n",
       "2036  1489362675889065985        2036\n",
       "2037  1424448523244871688        2037\n",
       "2038            438584384        2038\n",
       "2039   999149146429906944        2039\n",
       "2040   987419369599676416        2040\n",
       "\n",
       "[2041 rows x 2 columns]"
      ]
     },
     "execution_count": 87,
     "metadata": {},
     "output_type": "execute_result"
    }
   ],
   "source": [
    "df_users"
   ]
  },
  {
   "cell_type": "code",
   "execution_count": 88,
   "metadata": {},
   "outputs": [
    {
     "data": {
      "text/html": [
       "<div>\n",
       "<style scoped>\n",
       "    .dataframe tbody tr th:only-of-type {\n",
       "        vertical-align: middle;\n",
       "    }\n",
       "\n",
       "    .dataframe tbody tr th {\n",
       "        vertical-align: top;\n",
       "    }\n",
       "\n",
       "    .dataframe thead th {\n",
       "        text-align: right;\n",
       "    }\n",
       "</style>\n",
       "<table border=\"1\" class=\"dataframe\">\n",
       "  <thead>\n",
       "    <tr style=\"text-align: right;\">\n",
       "      <th></th>\n",
       "      <th>user_id</th>\n",
       "      <th>user_index</th>\n",
       "      <th>allsides_score</th>\n",
       "    </tr>\n",
       "  </thead>\n",
       "  <tbody>\n",
       "    <tr>\n",
       "      <th>0</th>\n",
       "      <td>1511561411696148480</td>\n",
       "      <td>0</td>\n",
       "      <td>NaN</td>\n",
       "    </tr>\n",
       "    <tr>\n",
       "      <th>1</th>\n",
       "      <td>1519024813561368576</td>\n",
       "      <td>1</td>\n",
       "      <td>0.666667</td>\n",
       "    </tr>\n",
       "    <tr>\n",
       "      <th>2</th>\n",
       "      <td>1537105274757976065</td>\n",
       "      <td>2</td>\n",
       "      <td>0.000000</td>\n",
       "    </tr>\n",
       "    <tr>\n",
       "      <th>3</th>\n",
       "      <td>438897163</td>\n",
       "      <td>3</td>\n",
       "      <td>-0.576923</td>\n",
       "    </tr>\n",
       "    <tr>\n",
       "      <th>4</th>\n",
       "      <td>55712928</td>\n",
       "      <td>4</td>\n",
       "      <td>NaN</td>\n",
       "    </tr>\n",
       "    <tr>\n",
       "      <th>...</th>\n",
       "      <td>...</td>\n",
       "      <td>...</td>\n",
       "      <td>...</td>\n",
       "    </tr>\n",
       "    <tr>\n",
       "      <th>2036</th>\n",
       "      <td>1489362675889065985</td>\n",
       "      <td>2036</td>\n",
       "      <td>NaN</td>\n",
       "    </tr>\n",
       "    <tr>\n",
       "      <th>2037</th>\n",
       "      <td>1424448523244871688</td>\n",
       "      <td>2037</td>\n",
       "      <td>NaN</td>\n",
       "    </tr>\n",
       "    <tr>\n",
       "      <th>2038</th>\n",
       "      <td>438584384</td>\n",
       "      <td>2038</td>\n",
       "      <td>NaN</td>\n",
       "    </tr>\n",
       "    <tr>\n",
       "      <th>2039</th>\n",
       "      <td>999149146429906944</td>\n",
       "      <td>2039</td>\n",
       "      <td>NaN</td>\n",
       "    </tr>\n",
       "    <tr>\n",
       "      <th>2040</th>\n",
       "      <td>987419369599676416</td>\n",
       "      <td>2040</td>\n",
       "      <td>NaN</td>\n",
       "    </tr>\n",
       "  </tbody>\n",
       "</table>\n",
       "<p>2041 rows × 3 columns</p>\n",
       "</div>"
      ],
      "text/plain": [
       "                  user_id  user_index  allsides_score\n",
       "0     1511561411696148480           0             NaN\n",
       "1     1519024813561368576           1        0.666667\n",
       "2     1537105274757976065           2        0.000000\n",
       "3               438897163           3       -0.576923\n",
       "4                55712928           4             NaN\n",
       "...                   ...         ...             ...\n",
       "2036  1489362675889065985        2036             NaN\n",
       "2037  1424448523244871688        2037             NaN\n",
       "2038            438584384        2038             NaN\n",
       "2039   999149146429906944        2039             NaN\n",
       "2040   987419369599676416        2040             NaN\n",
       "\n",
       "[2041 rows x 3 columns]"
      ]
     },
     "execution_count": 88,
     "metadata": {},
     "output_type": "execute_result"
    }
   ],
   "source": [
    "df_users = df_users.merge(df_label, on='user_id', how='left')\n",
    "df_users"
   ]
  },
  {
   "cell_type": "code",
   "execution_count": 89,
   "metadata": {},
   "outputs": [
    {
     "data": {
      "text/plain": [
       "array([       nan, 0.66666667, 0.        , ...,        nan,        nan,\n",
       "              nan])"
      ]
     },
     "execution_count": 89,
     "metadata": {},
     "output_type": "execute_result"
    }
   ],
   "source": [
    "ideology = df_users['allsides_score'].values\n",
    "ideology"
   ]
  },
  {
   "cell_type": "markdown",
   "metadata": {},
   "source": [
    "____"
   ]
  },
  {
   "cell_type": "markdown",
   "metadata": {},
   "source": [
    "# For all the topics"
   ]
  },
  {
   "cell_type": "code",
   "execution_count": 102,
   "metadata": {},
   "outputs": [],
   "source": [
    "tweet_topic = df_tweets['topic'].values"
   ]
  },
  {
   "cell_type": "code",
   "execution_count": 103,
   "metadata": {},
   "outputs": [
    {
     "data": {
      "text/plain": [
       "array([ 3,  6,  6, ...,  8,  2, 24])"
      ]
     },
     "execution_count": 103,
     "metadata": {},
     "output_type": "execute_result"
    }
   ],
   "source": [
    "tweet_topic"
   ]
  },
  {
   "cell_type": "code",
   "execution_count": 104,
   "metadata": {},
   "outputs": [
    {
     "name": "stdout",
     "output_type": "stream",
     "text": [
      "Topic 0: 0_fbi_trump_documents_doj\n",
      "number of users: 439\n",
      "Spearman correlation: SignificanceResult(statistic=0.5946181551447819, pvalue=2.5366509013952266e-43)\n",
      "\n",
      "\n",
      "\n",
      "Topic 1: 1_climate_inflation_energy_gas\n",
      "number of users: 336\n",
      "Spearman correlation: SignificanceResult(statistic=0.39732869918151376, pvalue=3.7347173971551736e-14)\n",
      "\n",
      "\n",
      "\n",
      "Topic 2: 2_vote_democrats_gop_republicans\n",
      "number of users: 302\n",
      "Spearman correlation: SignificanceResult(statistic=0.3995922821721817, pvalue=5.26387249646286e-13)\n",
      "\n",
      "\n",
      "\n",
      "Topic 3: 3_know_people_just_don\n",
      "number of users: 140\n",
      "Spearman correlation: SignificanceResult(statistic=0.26565042335021577, pvalue=0.001512699803550849)\n",
      "\n",
      "\n",
      "\n",
      "Topic 4: 4_abortion_roe_abortions_pro\n",
      "number of users: 252\n",
      "Spearman correlation: SignificanceResult(statistic=0.45247579136107796, pvalue=4.022656612300048e-14)\n",
      "\n",
      "\n",
      "\n",
      "Topic 5: 5_god_jesus_church_lord\n",
      "number of users: 120\n",
      "Spearman correlation: SignificanceResult(statistic=0.4936005772404741, pvalue=1.0140007519573905e-08)\n",
      "\n",
      "\n",
      "\n",
      "Topic 6: 6_covid_vaccine_pandemic_virus\n",
      "number of users: 187\n",
      "Spearman correlation: SignificanceResult(statistic=0.39502926869461824, pvalue=2.2067600999849094e-08)\n",
      "\n",
      "\n",
      "\n",
      "Topic 7: 7_women_trans_gender_men\n",
      "number of users: 178\n",
      "Spearman correlation: SignificanceResult(statistic=0.47388890582466653, pvalue=2.3689171694533122e-11)\n",
      "\n",
      "\n",
      "\n",
      "Topic 8: 8_twitter_tweet_musk_elon\n",
      "number of users: 161\n",
      "Spearman correlation: SignificanceResult(statistic=0.4436138924989046, pvalue=3.775134208221122e-09)\n",
      "\n",
      "\n",
      "\n",
      "Topic 9: 9_biden_joe_speech_president\n",
      "number of users: 224\n",
      "Spearman correlation: SignificanceResult(statistic=0.3524454290327377, pvalue=5.9485771351348615e-08)\n",
      "\n",
      "\n",
      "\n",
      "Topic 10: 10_ukraine_russia_russian_putin\n",
      "number of users: 156\n",
      "Spearman correlation: SignificanceResult(statistic=0.3584325015816696, pvalue=4.339771655182375e-06)\n",
      "\n",
      "\n",
      "\n",
      "Topic 11: 11_game_football_team_games\n",
      "number of users: 62\n",
      "Spearman correlation: SignificanceResult(statistic=0.5334483461142342, pvalue=8.033043584803214e-06)\n",
      "\n",
      "\n",
      "\n",
      "Topic 12: 12_woman_like_just_did\n",
      "number of users: 45\n",
      "Spearman correlation: SignificanceResult(statistic=0.48986676080064767, pvalue=0.0006365965377342672)\n",
      "\n",
      "\n",
      "\n",
      "Topic 13: 13_black_white_racist_racism\n",
      "number of users: 121\n",
      "Spearman correlation: SignificanceResult(statistic=0.41006984531718604, pvalue=2.996394390708509e-06)\n",
      "\n",
      "\n",
      "\n",
      "Topic 14: 14_movie_book_film_movies\n",
      "number of users: 69\n",
      "Spearman correlation: SignificanceResult(statistic=0.5104326419850431, pvalue=7.440433262518421e-06)\n",
      "\n",
      "\n",
      "\n",
      "Topic 15: 15_school_schools_teachers_teacher\n",
      "number of users: 151\n",
      "Spearman correlation: SignificanceResult(statistic=0.5032501308353633, pvalue=4.527090819210431e-11)\n",
      "\n",
      "\n",
      "\n",
      "Topic 16: 16_food_eat_pizza_chicken\n",
      "number of users: 31\n",
      "Spearman correlation: SignificanceResult(statistic=0.4539651205797823, pvalue=0.010310764312431149)\n",
      "\n",
      "\n",
      "\n",
      "Topic 17: 17_music_song_youtube_songs\n",
      "number of users: 57\n",
      "Spearman correlation: SignificanceResult(statistic=0.39954525727582557, pvalue=0.002076862387973033)\n",
      "\n",
      "\n",
      "\n",
      "Topic 18: 18_student_loan_debt_loans\n",
      "number of users: 201\n",
      "Spearman correlation: SignificanceResult(statistic=0.47643262808201237, pvalue=8.738187024091874e-13)\n",
      "\n",
      "\n",
      "\n",
      "Topic 19: 19_cnn_news_fox_media\n",
      "number of users: 109\n",
      "Spearman correlation: SignificanceResult(statistic=0.2843079150171723, pvalue=0.0027343269458630524)\n",
      "\n",
      "\n",
      "\n",
      "Topic 20: 20_seattle_homeless_city_housing\n",
      "number of users: 47\n",
      "Spearman correlation: SignificanceResult(statistic=0.44135762652188587, pvalue=0.0018997665505856448)\n",
      "\n",
      "\n",
      "\n",
      "Topic 21: 21_auspol_australia_uk_australian\n",
      "number of users: 31\n",
      "Spearman correlation: SignificanceResult(statistic=0.17717740058944603, pvalue=0.34032864407284136)\n",
      "\n",
      "\n",
      "\n",
      "Topic 22: 22_china_chinese_russia_military\n",
      "number of users: 68\n",
      "Spearman correlation: SignificanceResult(statistic=0.47060230614159876, pvalue=5.1269736114735674e-05)\n",
      "\n",
      "\n",
      "\n",
      "Topic 23: 23_border_illegal_migrants_biden\n",
      "number of users: 90\n",
      "Spearman correlation: SignificanceResult(statistic=0.39892263769358943, pvalue=9.836623744895549e-05)\n",
      "\n",
      "\n",
      "\n",
      "Topic 24: 24_dog_cat_dogs_animal\n",
      "number of users: 44\n",
      "Spearman correlation: SignificanceResult(statistic=0.10012690828743441, pvalue=0.5178424975249121)\n",
      "\n",
      "\n",
      "\n",
      "Topic 25: 25_tune_join_pm_joining\n",
      "number of users: 20\n",
      "Spearman correlation: SignificanceResult(statistic=0.4105926139544198, pvalue=0.07213668296737609)\n",
      "\n",
      "\n",
      "\n",
      "Topic 26: 26_health_doctors_medical_doctor\n",
      "number of users: 44\n",
      "Spearman correlation: SignificanceResult(statistic=0.7521427012529612, pvalue=3.956756007939873e-09)\n",
      "\n",
      "\n",
      "\n",
      "Topic 27: 27_desantis_florida_ron_charlie\n",
      "number of users: 75\n",
      "Spearman correlation: SignificanceResult(statistic=0.4924313534014622, pvalue=7.2045093647865115e-06)\n",
      "\n",
      "\n",
      "\n",
      "Topic 28: 28_fascist_fascists_fascism_semi\n",
      "number of users: 78\n",
      "Spearman correlation: SignificanceResult(statistic=0.30438572875402226, pvalue=0.006738994962601908)\n",
      "\n",
      "\n",
      "\n",
      "Topic 29: 29_canada_justin_canadian_minister\n",
      "number of users: 20\n",
      "Spearman correlation: SignificanceResult(statistic=0.7755397388462822, pvalue=5.881014899786915e-05)\n",
      "\n",
      "\n",
      "\n",
      "Topic 30: 30_check_added_just_shirt\n",
      "number of users: 5 is less than 10\n",
      "Topic 31: 31_afghanistan_taliban_killed_al\n",
      "number of users: 47\n",
      "Spearman correlation: SignificanceResult(statistic=0.5643172973227897, pvalue=3.6062751291197787e-05)\n",
      "\n",
      "\n",
      "\n",
      "Topic 32: 32_mccarthy_kevin_speaker_house\n",
      "number of users: 10\n",
      "Spearman correlation: SignificanceResult(statistic=0.4294478527607362, pvalue=0.21550579625663666)\n",
      "\n",
      "\n",
      "\n",
      "Topic 33: 33_maga_republicans_magas_republican\n",
      "number of users: 51\n",
      "Spearman correlation: SignificanceResult(statistic=0.5075164222028956, pvalue=0.00014398766086410404)\n",
      "\n",
      "\n",
      "\n",
      "Topic 34: 34_cheney_liz_trump_primary\n",
      "number of users: 56\n",
      "Spearman correlation: SignificanceResult(statistic=0.5076600287860353, pvalue=6.507774215415126e-05)\n",
      "\n",
      "\n",
      "\n"
     ]
    }
   ],
   "source": [
    "k = 30 # Number of top words to  use to compute ideology\n",
    "\n",
    "p = []\n",
    "corr = []\n",
    "\n",
    "for topic_id in range(len(df_topics)):\n",
    "    topic_name = df_topics['Name'][topic_id]\n",
    "    \n",
    "    # keep the tweets about the topic\n",
    "    U2TW_t = U2TW[:, tweet_topic == topic_id]\n",
    "    TW2W_t = TW2W[tweet_topic == topic_id, :]\n",
    "    \n",
    "    U2W_t = U2TW_t @ TW2W_t\n",
    "    \n",
    "    U2W_bin_t = U2W_t.copy()\n",
    "    U2W_bin_t[U2W_bin_t > 0] = 1\n",
    "    \n",
    "    U2W_bin_0_t = U2W_bin_t[Users_Labels == 0, :]\n",
    "    U2W_bin_1_t = U2W_bin_t[Users_Labels == 1, :]\n",
    "    \n",
    "    ratio_0 = U2W_bin_0_t.sum(axis=0) / U2W_bin_0_t.shape[0]\n",
    "    ratio_1 = U2W_bin_1_t.sum(axis=0) / U2W_bin_1_t.shape[0]\n",
    "    \n",
    "    ratio_0 = ratio_0.A1\n",
    "    ratio_1 = ratio_1.A1\n",
    "    \n",
    "    \n",
    "    score_c0_topic = (HS_T2W_C0[topic_id] - HS_T2W_C1[topic_id]) * ratio_0\n",
    "    score_c1_topic = (HS_T2W_C1[topic_id] - HS_T2W_C0[topic_id]) * ratio_1\n",
    "    \n",
    "    top_k_words_c0 = np.argsort(score_c0_topic)[::-1][:k]\n",
    "    top_k_words_c1 = np.argsort(score_c1_topic)[::-1][:k]\n",
    "    \n",
    "    print(f\"Topic {topic_id}: {topic_name}\")\n",
    "    \n",
    "    \n",
    "    user_scores = []\n",
    "    ground_truth = []\n",
    "\n",
    "    for i in range(U2W_t.shape[0]):\n",
    "        if np.isnan(ideology[i]):\n",
    "            # print('nan')\n",
    "            continue\n",
    "        \n",
    "        user_words = U2W_t[i].toarray().squeeze()\n",
    "        \n",
    "        # idx = Users_Labels[i] \n",
    "        \n",
    "        user_words_c0 = user_words[top_k_words_c0]\n",
    "        user_words_c1 = user_words[top_k_words_c1]\n",
    "        \n",
    "        # Count non zero words \n",
    "        non_zero_c0 = sum(user_words_c0 > 0)\n",
    "        non_zero_c1 = sum(user_words_c1 > 0)\n",
    "        \n",
    "        if (non_zero_c0 + non_zero_c1) <= 3:\n",
    "            continue\n",
    "        \n",
    "        s0 = sum(user_words_c0)\n",
    "        s1 = sum(user_words_c1)\n",
    "        score = (s0 - s1) / (s0 + s1)\n",
    "        \n",
    "        # user_scores[idx].append(score)\n",
    "        \n",
    "        user_scores.append(score)\n",
    "        ground_truth.append(ideology[i])\n",
    "        \n",
    "    user_scores = np.array(user_scores)\n",
    "    ground_truth = np.array(ground_truth)\n",
    "    \n",
    "    if len(user_scores) < 10:\n",
    "        print(f\"number of users: {len(user_scores)} is less than 10\")\n",
    "        continue\n",
    "    \n",
    "    print(f\"number of users: {len(user_scores)}\")\n",
    "    # print(f\"Kendall tau: {kendalltau(user_scores, -ground_truth)}\")\n",
    "    print(f\"Spearman correlation: {spearmanr(user_scores, -ground_truth)}\")\n",
    "    \n",
    "    corr_, p_ = spearmanr(user_scores, -ground_truth)\n",
    "    if len(user_scores) >= 100:\n",
    "        p.append(p_)\n",
    "        corr.append(corr_)\n",
    "    \n",
    "    print(\"\\n\\n\")\n",
    "    "
   ]
  },
  {
   "cell_type": "code",
   "execution_count": 105,
   "metadata": {},
   "outputs": [
    {
     "data": {
      "text/plain": [
       "(15, 15)"
      ]
     },
     "execution_count": 105,
     "metadata": {},
     "output_type": "execute_result"
    }
   ],
   "source": [
    "len(p), len(corr)"
   ]
  },
  {
   "cell_type": "code",
   "execution_count": 106,
   "metadata": {},
   "outputs": [
    {
     "data": {
      "text/plain": [
       "[2.5366509013952266e-43,\n",
       " 3.7347173971551736e-14,\n",
       " 5.26387249646286e-13,\n",
       " 0.001512699803550849,\n",
       " 4.022656612300048e-14,\n",
       " 1.0140007519573905e-08,\n",
       " 2.2067600999849094e-08,\n",
       " 2.3689171694533122e-11,\n",
       " 3.775134208221122e-09,\n",
       " 5.9485771351348615e-08,\n",
       " 4.339771655182375e-06,\n",
       " 2.996394390708509e-06,\n",
       " 4.527090819210431e-11,\n",
       " 8.738187024091874e-13,\n",
       " 0.0027343269458630524]"
      ]
     },
     "execution_count": 106,
     "metadata": {},
     "output_type": "execute_result"
    }
   ],
   "source": [
    "p"
   ]
  },
  {
   "cell_type": "code",
   "execution_count": 107,
   "metadata": {},
   "outputs": [
    {
     "data": {
      "text/plain": [
       "[0.5946181551447819,\n",
       " 0.39732869918151376,\n",
       " 0.3995922821721817,\n",
       " 0.26565042335021577,\n",
       " 0.45247579136107796,\n",
       " 0.4936005772404741,\n",
       " 0.39502926869461824,\n",
       " 0.47388890582466653,\n",
       " 0.4436138924989046,\n",
       " 0.3524454290327377,\n",
       " 0.3584325015816696,\n",
       " 0.41006984531718604,\n",
       " 0.5032501308353633,\n",
       " 0.47643262808201237,\n",
       " 0.2843079150171723]"
      ]
     },
     "execution_count": 107,
     "metadata": {},
     "output_type": "execute_result"
    }
   ],
   "source": [
    "corr"
   ]
  },
  {
   "cell_type": "code",
   "execution_count": 108,
   "metadata": {},
   "outputs": [
    {
     "data": {
      "text/plain": [
       "(0.42004909635563836, 0.0002836305636274487)"
      ]
     },
     "execution_count": 108,
     "metadata": {},
     "output_type": "execute_result"
    }
   ],
   "source": [
    "np.mean(corr), np.mean(p)"
   ]
  },
  {
   "cell_type": "code",
   "execution_count": null,
   "metadata": {},
   "outputs": [],
   "source": []
  }
 ],
 "metadata": {
  "kernelspec": {
   "display_name": "dev_echo_profile_py311",
   "language": "python",
   "name": "python3"
  },
  "language_info": {
   "codemirror_mode": {
    "name": "ipython",
    "version": 3
   },
   "file_extension": ".py",
   "mimetype": "text/x-python",
   "name": "python",
   "nbconvert_exporter": "python",
   "pygments_lexer": "ipython3",
   "version": "3.11.9"
  }
 },
 "nbformat": 4,
 "nbformat_minor": 2
}
